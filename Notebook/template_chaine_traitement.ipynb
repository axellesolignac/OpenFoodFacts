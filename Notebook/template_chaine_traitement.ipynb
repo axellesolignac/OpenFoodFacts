{
 "cells": [
  {
   "attachments": {},
   "cell_type": "markdown",
   "metadata": {},
   "source": [
    "This document list the process of a treatment dataset for a ML project"
   ]
  },
  {
   "attachments": {},
   "cell_type": "markdown",
   "metadata": {},
   "source": [
    "Cleaning: \n",
    "    Duplicates and types   \n",
    "    Missing value\n",
    "    Outliers\n",
    "\n",
    "Preparation steps:\n",
    "    Encoding categorial data\n",
    "    Scaling\n",
    "    Balance\n",
    "    Discretization\n",
    "    Bags of words\n",
    "\n",
    "Improve the information: \n",
    "    Features creation\n",
    "    Features selection"
   ]
  },
  {
   "attachments": {},
   "cell_type": "markdown",
   "metadata": {},
   "source": [
    "#Duplicates\n",
    "Be sure there is not twice the same product \n",
    "    Drop duplicates\n",
    "#Missing value\n",
    "A lot of nutriment features a lot are empty or partly\n",
    "    Identified columns with missing value, Collect the % of missing value.\n",
    "    Treate these columns\n",
    "\n",
    "#Outliers\n",
    "Check the numerical features -> nutriment Features (columns '_100g')\n",
    "    Use context to determine if this is outliers. Which product ? Which kind of features ? \n",
    "\n",
    "Input raw dataset\n",
    "Output clean dataset"
   ]
  },
  {
   "attachments": {},
   "cell_type": "markdown",
   "metadata": {},
   "source": [
    "#Encoding categorial:\n",
    "    Use wordcloud to the visualize categorial features ('packagin') encode in binari for the most relevant\n",
    "    Hashing methode to assure there is no hierarchy\n",
    "#Scaling\n",
    "    Bar plot to visualize output.\n",
    "#Normalisation\n",
    "  Bar plot to visualize output. Check the distribution.\n",
    "  Be sure the features have the same unit ('quantity')\n",
    "#Balance\n",
    "    Assure there is not unbalanced features. Use SMOTE\n",
    "#Discretization\n",
    "    K-bins discretization. In case of features engineering, improve processing performance.\n",
    "#Bags of words\n",
    "For the features ('product_name', 'package')\n",
    "    Check the language \n",
    "    Exclude Stop words (use package nlt4)\n",
    "    \n",
    "\n",
    "Input clean dataset\n",
    "Output prepared dataset"
   ]
  },
  {
   "attachments": {},
   "cell_type": "markdown",
   "metadata": {},
   "source": [
    "#Features creation\n",
    "    Feature enginnering, select linked dataset \n",
    "\n",
    "#Features selection\n",
    "    Implement method as PCA \n",
    "\n",
    "Use pipeline to deploy easly, with the same parameters "
   ]
  },
  {
   "attachments": {},
   "cell_type": "markdown",
   "metadata": {},
   "source": [
    "Analyze error:\n",
    "Use Framework to assure a responsible model"
   ]
  },
  {
   "attachments": {},
   "cell_type": "markdown",
   "metadata": {},
   "source": [
    "Model fit\n",
    "Select your model KMeans, DBSCAN\n",
    "Optimize parameters \n",
    "\n",
    "Once model fit \n",
    "    iterate the preprocess list add features to improve models."
   ]
  },
  {
   "attachments": {},
   "cell_type": "markdown",
   "metadata": {},
   "source": [
    "#Cluster viz:\n",
    "    Scatter plot : show multidimensionnel sapce. Use colors to show the gap betwen each cluster.\n",
    "    Radar chart : Use mean or mediane of clusters to compare the profil between the clusters \n",
    "    Cloud word : Determine the composante of the clusters \n"
   ]
  }
 ],
 "metadata": {
  "language_info": {
   "name": "python"
  },
  "orig_nbformat": 4
 },
 "nbformat": 4,
 "nbformat_minor": 2
}
